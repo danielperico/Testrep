{
 "cells": [
  {
   "cell_type": "code",
   "execution_count": null,
   "metadata": {},
   "outputs": [],
   "source": [
    "import credentials\n",
    "import gmaps\n",
    "import queries"
   ]
  },
  {
   "cell_type": "code",
   "execution_count": null,
   "metadata": {
    "collapsed": false
   },
   "outputs": [],
   "source": [
    "gmaps.configure(credentials.get_google_api_key())\n",
    "\n",
    "df = queries.load_heat_map_as_df_gmap2()\n",
    "fig = gmaps.figure()\n",
    "locations = df[['longitude', 'latitude']]\n",
    "weights = df['magnitude']\n",
    "weights_max = float(df['magnitude'].max())\n",
    "# point_radius = re.search(r'\\d+\\.\\d+', row[1]['range'])\n",
    "heatmap_layer = gmaps.heatmap_layer(locations=locations, weights=weights,\n",
    "                                        max_intensity=weights_max, point_radius=30)\n",
    "fig.add_layer(heatmap_layer)"
   ]
  },
  {
   "cell_type": "code",
   "execution_count": null,
   "metadata": {},
   "outputs": [
    {
     "data": {
      "text/plain": [
       "Figure(layout=FigureLayout(height='420px'))"
      ]
     },
     "execution_count": 0,
     "metadata": {},
     "output_type": "execute_result"
    }
   ],
   "source": [
    "fig"
   ]
  },
  {
   "cell_type": "code",
   "execution_count": 11,
   "metadata": {},
   "outputs": [
    {
     "data": {
      "text/plain": [
       "(34, longitude     51.746888\n",
       " latitude       5.923912\n",
       " magnitude    947.000000\n",
       " range          4.920000\n",
       " Name: 34, dtype: float64)"
      ]
     },
     "execution_count": 11,
     "metadata": {},
     "output_type": "execute_result"
    }
   ],
   "source": [
    "gmaps.configure(credentials.get_google_api_key())\n",
    "\n",
    "df = queries.load_heat_map_as_df_gmap()\n",
    "\n",
    "fig = gmaps.figure()\n",
    "\n",
    "for row in df.iterrows():\n",
    "    heatmap_layer = gmaps.heatmap_layer([(row[1]['longitude'], row[1]['latitude'])], weights=[row[1]['magnitude']],\n",
    "                                            max_intensity=row[1]['magnitude'], point_radius=row[1]['range'])\n",
    "    fig.add_layer(heatmap_layer)"
   ]
  },
  {
   "cell_type": "code",
   "execution_count": 6,
   "metadata": {},
   "outputs": [],
   "source": []
  },
  {
   "cell_type": "code",
   "execution_count": null,
   "metadata": {},
   "outputs": [],
   "source": []
  }
 ],
 "metadata": {
  "kernelspec": {
   "display_name": "Python 3",
   "language": "python",
   "name": "python3"
  },
  "language_info": {
   "codemirror_mode": {
    "name": "ipython",
    "version": 3
   },
   "file_extension": ".py",
   "mimetype": "text/x-python",
   "name": "python",
   "nbconvert_exporter": "python",
   "pygments_lexer": "ipython3",
   "version": "3.7.1"
  }
 },
 "nbformat": 4,
 "nbformat_minor": 1
}
